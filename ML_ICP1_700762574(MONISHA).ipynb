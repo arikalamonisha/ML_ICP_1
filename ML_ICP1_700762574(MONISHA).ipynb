{
  "nbformat": 4,
  "nbformat_minor": 0,
  "metadata": {
    "colab": {
      "provenance": [],
      "include_colab_link": true
    },
    "kernelspec": {
      "name": "python3",
      "display_name": "Python 3"
    },
    "language_info": {
      "name": "python"
    }
  },
  "cells": [
    {
      "cell_type": "markdown",
      "metadata": {
        "id": "view-in-github",
        "colab_type": "text"
      },
      "source": [
        "<a href=\"https://colab.research.google.com/github/arikalamonisha/ML_ICP_1/blob/main/ML_ICP1_700762574(MONISHA).ipynb\" target=\"_parent\"><img src=\"https://colab.research.google.com/assets/colab-badge.svg\" alt=\"Open In Colab\"/></a>"
      ]
    },
    {
      "cell_type": "code",
      "execution_count": null,
      "metadata": {
        "colab": {
          "base_uri": "https://localhost:8080/"
        },
        "id": "YO0R0DQ7teO3",
        "outputId": "a4d75d36-c68e-43ca-ea29-bb5e1a3e2280"
      },
      "outputs": [
        {
          "output_type": "stream",
          "name": "stdout",
          "text": [
            "Sorted ages: [19, 19, 20, 22, 24, 24, 24, 25, 25, 26]\n",
            "Min age: 19\n",
            "Max age: 26\n",
            "Ages after adding min and max again: [19, 19, 20, 22, 24, 24, 24, 25, 25, 26, 19, 26]\n",
            "Median age: 24.0\n",
            "Average age: 22.75\n",
            "Range of ages: 7\n"
          ]
        }
      ],
      "source": [
        "# List of ages\n",
        "ages = [19, 22, 19, 24, 20, 25, 26, 24, 25, 24]\n",
        "\n",
        "# Sort the list and find the min and max age\n",
        "ages.sort()\n",
        "min_age = ages[0]\n",
        "max_age = ages[-1]\n",
        "\n",
        "print(f\"Sorted ages: {ages}\")\n",
        "print(f\"Min age: {min_age}\")\n",
        "print(f\"Max age: {max_age}\")\n",
        "\n",
        "# Add the min age and the max age again to the list\n",
        "ages.append(min_age)\n",
        "ages.append(max_age)\n",
        "print(f\"Ages after adding min and max again: {ages}\")\n",
        "\n",
        "# Sort the list again after adding the min and max\n",
        "ages.sort()\n",
        "\n",
        "# Find the median age\n",
        "n = len(ages)\n",
        "if n % 2 == 0:\n",
        "    median_age = (ages[n//2 - 1] + ages[n//2]) / 2\n",
        "else:\n",
        "    median_age = ages[n//2]\n",
        "print(f\"Median age: {median_age}\")\n",
        "\n",
        "# Find the average age\n",
        "average_age = sum(ages) / n\n",
        "print(f\"Average age: {average_age}\")\n",
        "\n",
        "# Find the range of the ages (max minus min)\n",
        "age_range = max_age - min_age\n",
        "print(f\"Range of ages: {age_range}\")\n"
      ]
    },
    {
      "cell_type": "code",
      "source": [
        "# Create an empty dictionary called dog\n",
        "dog = {}\n",
        "\n",
        "# Add name, color, breed, legs, age to the dog dictionary\n",
        "dog['name'] = 'Buddy'\n",
        "dog['color'] = 'Brown'\n",
        "dog['breed'] = 'Golden Retriever'\n",
        "dog['legs'] = 4\n",
        "dog['age'] = 5\n",
        "\n",
        "print(\"Dog dictionary:\", dog)\n",
        "\n",
        "# Create a student dictionary and add various keys\n",
        "student = {\n",
        "    'first_name': 'John',\n",
        "    'last_name': 'Doe',\n",
        "    'gender': 'Male',\n",
        "    'age': 22,\n",
        "    'marital_status': 'Single',\n",
        "    'skills': ['Python', 'Java'],\n",
        "    'country': 'USA',\n",
        "    'city': 'New York',\n",
        "    'address': '123 Main St'\n",
        "}\n",
        "\n",
        "print(\"Student dictionary:\", student)\n",
        "\n",
        "# Get the length of the student dictionary\n",
        "student_length = len(student)\n",
        "print(\"Length of student dictionary:\", student_length)\n",
        "\n",
        "# Get the value of skills and check the data type\n",
        "skills = student['skills']\n",
        "print(\"Skills:\", skills)\n",
        "print(\"Data type of skills:\", type(skills))\n",
        "\n",
        "# Modify the skills values by adding one or two skills\n",
        "student['skills'].append('C++')\n",
        "student['skills'].append('SQL')\n",
        "print(\"Updated skills:\", student['skills'])\n",
        "\n",
        "# Get the dictionary keys as a list\n",
        "student_keys = list(student.keys())\n",
        "print(\"Student dictionary keys:\", student_keys)\n",
        "\n",
        "# Get the dictionary values as a list\n",
        "student_values = list(student.values())\n",
        "print(\"Student dictionary values:\", student_values)\n"
      ],
      "metadata": {
        "colab": {
          "base_uri": "https://localhost:8080/"
        },
        "id": "vVrPovHIuN9x",
        "outputId": "0165a4aa-8cba-4b0b-cf48-3dd7c86d5a91"
      },
      "execution_count": null,
      "outputs": [
        {
          "output_type": "stream",
          "name": "stdout",
          "text": [
            "Dog dictionary: {'name': 'Buddy', 'color': 'Brown', 'breed': 'Golden Retriever', 'legs': 4, 'age': 5}\n",
            "Student dictionary: {'first_name': 'John', 'last_name': 'Doe', 'gender': 'Male', 'age': 22, 'marital_status': 'Single', 'skills': ['Python', 'Java'], 'country': 'USA', 'city': 'New York', 'address': '123 Main St'}\n",
            "Length of student dictionary: 9\n",
            "Skills: ['Python', 'Java']\n",
            "Data type of skills: <class 'list'>\n",
            "Updated skills: ['Python', 'Java', 'C++', 'SQL']\n",
            "Student dictionary keys: ['first_name', 'last_name', 'gender', 'age', 'marital_status', 'skills', 'country', 'city', 'address']\n",
            "Student dictionary values: ['John', 'Doe', 'Male', 22, 'Single', ['Python', 'Java', 'C++', 'SQL'], 'USA', 'New York', '123 Main St']\n"
          ]
        }
      ]
    },
    {
      "cell_type": "code",
      "source": [
        "# Create a tuple containing names of your sisters and your brothers\n",
        "sisters = ('Moni', 'chandu', 'navya')\n",
        "brothers = ('sai', 'maurya', 'jashu')\n",
        "\n",
        "# Join brothers and sisters tuples and assign it to siblings\n",
        "siblings = sisters + brothers\n",
        "print(\"Siblings:\", siblings)\n",
        "\n",
        "# How many siblings do you have?\n",
        "num_siblings = len(siblings)\n",
        "print(\"Number of siblings:\", num_siblings)\n",
        "\n",
        "# Modify the siblings tuple and add the name of your father and mother and assign it to family_members\n",
        "family_members = siblings + ('ram', 'sita')\n",
        "print(\"Family members:\", family_members)\n"
      ],
      "metadata": {
        "colab": {
          "base_uri": "https://localhost:8080/"
        },
        "id": "4kGETO58ux_N",
        "outputId": "89dc48c1-99ee-45ce-f47f-7e886c1bc0dd"
      },
      "execution_count": null,
      "outputs": [
        {
          "output_type": "stream",
          "name": "stdout",
          "text": [
            "Siblings: ('Moni', 'chandu', 'navya', 'sai', 'maurya', 'jashu')\n",
            "Number of siblings: 6\n",
            "Family members: ('Moni', 'chandu', 'navya', 'sai', 'maurya', 'jashu', 'ram', 'sita')\n"
          ]
        }
      ]
    },
    {
      "cell_type": "code",
      "source": [
        "# Initial sets and list\n",
        "it_companies = {'Facebook', 'Google', 'Microsoft', 'Apple', 'IBM', 'Oracle', 'Amazon'}\n",
        "A = {19, 22, 24, 20, 25, 26}\n",
        "B = {19, 22, 20, 25, 26, 24, 28, 27}\n",
        "age = [22, 19, 24, 25, 26, 24, 25, 24]\n",
        "\n",
        "# Find the length of the set it_companies\n",
        "len_it_companies = len(it_companies)\n",
        "print(\"Length of it_companies set:\", len_it_companies)\n",
        "\n",
        "# Add 'Twitter' to it_companies\n",
        "it_companies.add('Twitter')\n",
        "print(\"it_companies after adding 'Twitter':\", it_companies)\n",
        "\n",
        "# Insert multiple IT companies at once to the set it_companies\n",
        "it_companies.update(['Snapchat', 'LinkedIn', 'Netflix'])\n",
        "print(\"it_companies after adding multiple companies:\", it_companies)\n",
        "\n",
        "# Remove one of the companies from the set it_companies\n",
        "it_companies.remove('Facebook')  # Example of removing 'Facebook'\n",
        "print(\"it_companies after removing 'Facebook':\", it_companies)\n",
        "\n",
        "# Difference between remove and discard\n",
        "# remove() will raise a KeyError if the item does not exist\n",
        "# discard() will not raise an error if the item does not exist\n",
        "it_companies.discard('NonExistentCompany')  # No error if the item does not exist\n",
        "# it_companies.remove('NonExistentCompany')  # This would raise a KeyError if uncommented\n",
        "\n",
        "# Join A and B\n",
        "A_union_B = A.union(B)\n",
        "print(\"A union B:\", A_union_B)\n",
        "\n",
        "# Find A intersection B\n",
        "A_intersection_B = A.intersection(B)\n",
        "print(\"A intersection B:\", A_intersection_B)\n",
        "\n",
        "# Is A subset of B\n",
        "A_subset_B = A.issubset(B)\n",
        "print(\"Is A subset of B:\", A_subset_B)\n",
        "\n",
        "# Are A and B disjoint sets\n",
        "A_disjoint_B = A.isdisjoint(B)\n",
        "print(\"Are A and B disjoint sets:\", A_disjoint_B)\n",
        "\n",
        "# Join A with B and B with A (Union is commutative)\n",
        "A_union_B = A.union(B)\n",
        "B_union_A = B.union(A)\n",
        "print(\"A union B:\", A_union_B)\n",
        "print(\"B union A:\", B_union_A)\n",
        "\n",
        "# Symmetric difference between A and B\n",
        "A_sym_diff_B = A.symmetric_difference(B)\n",
        "print(\"Symmetric difference between A and B:\", A_sym_diff_B)\n",
        "\n",
        "# Delete the sets completely\n",
        "del A\n",
        "del B\n",
        "# print(A)  # This would raise a NameError if uncommented\n",
        "# print(B)  # This would raise a NameError if uncommented\n",
        "\n",
        "# Convert the ages to a set and compare the length of the list and the set\n",
        "age_set = set(age)\n",
        "print(\"Original age list:\", age)\n",
        "print(\"Converted age set:\", age_set)\n",
        "print(\"Length of age list:\", len(age))\n",
        "print(\"Length of age set:\", len(age_set))\n"
      ],
      "metadata": {
        "colab": {
          "base_uri": "https://localhost:8080/"
        },
        "id": "2X_p24B2vHxY",
        "outputId": "bf01f919-17bf-44b9-d4d5-acc674a5a8a1"
      },
      "execution_count": null,
      "outputs": [
        {
          "output_type": "stream",
          "name": "stdout",
          "text": [
            "Length of it_companies set: 7\n",
            "it_companies after adding 'Twitter': {'Apple', 'Microsoft', 'IBM', 'Amazon', 'Oracle', 'Twitter', 'Facebook', 'Google'}\n",
            "it_companies after adding multiple companies: {'Snapchat', 'Amazon', 'Oracle', 'LinkedIn', 'Twitter', 'Google', 'Netflix', 'Apple', 'Microsoft', 'IBM', 'Facebook'}\n",
            "it_companies after removing 'Facebook': {'Snapchat', 'Amazon', 'Oracle', 'LinkedIn', 'Twitter', 'Google', 'Netflix', 'Apple', 'Microsoft', 'IBM'}\n",
            "A union B: {19, 20, 22, 24, 25, 26, 27, 28}\n",
            "A intersection B: {19, 20, 22, 24, 25, 26}\n",
            "Is A subset of B: True\n",
            "Are A and B disjoint sets: False\n",
            "A union B: {19, 20, 22, 24, 25, 26, 27, 28}\n",
            "B union A: {19, 20, 22, 24, 25, 26, 27, 28}\n",
            "Symmetric difference between A and B: {27, 28}\n",
            "Original age list: [22, 19, 24, 25, 26, 24, 25, 24]\n",
            "Converted age set: {19, 22, 24, 25, 26}\n",
            "Length of age list: 8\n",
            "Length of age set: 5\n"
          ]
        }
      ]
    },
    {
      "cell_type": "code",
      "source": [
        "import math\n",
        "\n",
        "# Given radius\n",
        "radius = 30\n",
        "\n",
        "# Calculate the area of the circle\n",
        "_area_of_circle_ = math.pi * radius**2\n",
        "print(\"Area of the circle with radius 30 meters:\", _area_of_circle_)\n",
        "\n",
        "# Calculate the circumference of the circle\n",
        "_circum_of_circle_ = 2 * math.pi * radius\n",
        "print(\"Circumference of the circle with radius 30 meters:\", _circum_of_circle_)\n",
        "\n",
        "# Take radius as user input and calculate the area\n",
        "user_radius = float(input(\"Enter the radius of the circle: \"))\n",
        "user_area_of_circle = math.pi * user_radius**2\n",
        "print(f\"Area of the circle with radius {user_radius} meters:\", user_area_of_circle)\n"
      ],
      "metadata": {
        "colab": {
          "base_uri": "https://localhost:8080/"
        },
        "id": "1Mm6xQDAvYMr",
        "outputId": "66b99903-fb6e-4efe-e5f2-c6d23ab5013c"
      },
      "execution_count": null,
      "outputs": [
        {
          "output_type": "stream",
          "name": "stdout",
          "text": [
            "Area of the circle with radius 30 meters: 2827.4333882308138\n",
            "Circumference of the circle with radius 30 meters: 188.49555921538757\n",
            "Enter the radius of the circle: 30\n",
            "Area of the circle with radius 30.0 meters: 2827.4333882308138\n"
          ]
        }
      ]
    },
    {
      "cell_type": "code",
      "source": [
        "# Given sentence\n",
        "sentence = \"I am a teacher and I love to inspire and teach people\"\n",
        "\n",
        "# Split the sentence into words\n",
        "words = sentence.split()\n",
        "\n",
        "# Convert the list of words to a set to get unique words\n",
        "unique_words = set(words)\n",
        "\n",
        "# Get the number of unique words\n",
        "num_unique_words = len(unique_words)\n",
        "\n",
        "print(\"Unique words:\", unique_words)\n",
        "print(\"Number of unique words:\", num_unique_words)\n"
      ],
      "metadata": {
        "colab": {
          "base_uri": "https://localhost:8080/"
        },
        "id": "sObiNA4AvqMO",
        "outputId": "80cd542f-5acd-4bf7-bbfa-845eb45a3905"
      },
      "execution_count": null,
      "outputs": [
        {
          "output_type": "stream",
          "name": "stdout",
          "text": [
            "Unique words: {'a', 'people', 'to', 'inspire', 'teach', 'and', 'I', 'teacher', 'love', 'am'}\n",
            "Number of unique words: 10\n"
          ]
        }
      ]
    },
    {
      "cell_type": "code",
      "source": [
        "# Using tab escape sequence to format the lines\n",
        "print(\"Name\\t\\tAge\\tCountry\\t\\tCity\")\n",
        "print(\"Asabeneh\\t250\\tFinland\\t\\tHelsinki\")\n"
      ],
      "metadata": {
        "colab": {
          "base_uri": "https://localhost:8080/"
        },
        "id": "abTU7swbvwcW",
        "outputId": "230b35e7-0d1a-4b49-bcd4-718bea42a34e"
      },
      "execution_count": null,
      "outputs": [
        {
          "output_type": "stream",
          "name": "stdout",
          "text": [
            "Name\t\tAge\tCountry\t\tCity\n",
            "Asabeneh\t250\tFinland\t\tHelsinki\n"
          ]
        }
      ]
    },
    {
      "cell_type": "code",
      "source": [
        "# Given radius\n",
        "radius = 10\n",
        "\n",
        "# Calculate the area of the circle\n",
        "area = 3.14 * radius ** 2\n",
        "\n",
        "# Using string formatting to display the message\n",
        "message = \"The area of a circle with radius {} is {} meters square.\".format(radius, area)\n",
        "print(message)\n",
        "\n",
        "# Alternatively, using f-string formatting (Python 3.6+)\n",
        "message_fstring = f\"The area of a circle with radius {radius} is {area} meters square.\"\n",
        "print(message_fstring)\n"
      ],
      "metadata": {
        "colab": {
          "base_uri": "https://localhost:8080/"
        },
        "id": "YidqShMZwD5z",
        "outputId": "f6106356-8119-488c-aab1-46a20d185431"
      },
      "execution_count": null,
      "outputs": [
        {
          "output_type": "stream",
          "name": "stdout",
          "text": [
            "The area of a circle with radius 10 is 314.0 meters square.\n",
            "The area of a circle with radius 10 is 314.0 meters square.\n"
          ]
        }
      ]
    },
    {
      "cell_type": "code",
      "source": [],
      "metadata": {
        "id": "_Kjq01kNUOfn"
      },
      "execution_count": null,
      "outputs": []
    },
    {
      "cell_type": "code",
      "source": [
        "# Conversion factor from pounds to kilograms\n",
        "lbs_to_kg = 0.453592\n",
        "\n",
        "# Read the number of students\n",
        "N = int(input(\"Enter the number of students: \"))\n",
        "\n",
        "# Initialize an empty list to store weights in pounds\n",
        "weights_lbs = []\n",
        "\n",
        "# Read weights of N students\n",
        "for i in range(N):\n",
        "    weight = float(input(f\"Enter the weight of student {i+1} in pounds: \"))\n",
        "    weights_lbs.append(weight)\n",
        "\n",
        "# Initialize an empty list to store weights in kilograms\n",
        "weights_kg = []\n",
        "\n",
        "# Convert each weight to kilograms and add to the weights_kg list\n",
        "for weight in weights_lbs:\n",
        "    weight_kg = round(weight * lbs_to_kg, 2)  # Convert to kg and round to 2 decimal places\n",
        "    weights_kg.append(weight_kg)\n",
        "\n",
        "# Print the input weights and the converted weights\n",
        "print(\"Weights in pounds:\", weights_lbs)\n",
        "print(\"Weights in kilograms:\", weights_kg)\n"
      ],
      "metadata": {
        "colab": {
          "base_uri": "https://localhost:8080/"
        },
        "id": "rL1abPQfUOsg",
        "outputId": "db9306ca-4280-482d-8d12-76d7431b3077"
      },
      "execution_count": null,
      "outputs": [
        {
          "output_type": "stream",
          "name": "stdout",
          "text": [
            "Enter the number of students: 4\n",
            "Enter the weight of student 1 in pounds: 150\n",
            "Enter the weight of student 2 in pounds: 155\n",
            "Enter the weight of student 3 in pounds: 145\n",
            "Enter the weight of student 4 in pounds: 148\n",
            "Weights in pounds: [150.0, 155.0, 145.0, 148.0]\n",
            "Weights in kilograms: [68.04, 70.31, 65.77, 67.13]\n"
          ]
        }
      ]
    }
  ]
}